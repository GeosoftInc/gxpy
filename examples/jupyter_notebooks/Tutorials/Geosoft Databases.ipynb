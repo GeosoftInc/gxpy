{
 "cells": [
  {
   "cell_type": "markdown",
   "metadata": {},
   "source": [
    "Copyright (c) 2017 [Geosoft Inc.](geosoft.com)\n",
    "\n",
    "https://github.com/GeosoftInc/gxpy\n",
    "\n",
    "[BSD 2-clause License](https://github.com/GeosoftInc/gxpy/blob/master/LICENSE)"
   ]
  },
  {
   "cell_type": "markdown",
   "metadata": {},
   "source": [
    "# Geosoft Databases\n",
    "\n",
    "### Lessons\n",
    "\n",
    "<!--- # Run this from a code cell to create TOC markdown: -->\n",
    "<!--- import geosoft.gxpy.utility; print(geosoft.gxpy.utility.jupyter_markdown_toc('geosoft databases')) -->\n",
    " 1. [What is a Geosoft database?](#What-is-a-Geosoft-database?)\n",
    " 2. [Create a new database from a CSV-format data file](#Create-a-new-database-from-a-CSV-format-data-file)\n",
    " 3. [Split the data into lines](#Split-the-data-into-lines)\n",
    " 4. [Read, modify and save data using numpy](#Read,-modify-and-save-data-using-numpy)\n",
    " 5. [Read, modify and save data using a VV](#Read,-modify-and-save-data-using-a-VV)\n",
    " 6. [Apply an expression to a database](#Apply-an-expression-to-a-database)\n",
    " \n",
    "## What is a Geosoft database?\n",
    "\n",
    "A Geosoft database stores 3D spatial data in a form that allows for both very-large volume data storage and very efficient processing.  Geosoft databases are stored on a file system in a file that has extension _.gdb_.\n",
    "\n",
    "The Geosoft database was first designed in 1992 and has evolved to become a de facto standard for airborne and ground geophysical data, geochemical data, and drillhole data of all kinds.  All Geosoft programs and third-party applications that use the Geosoft API to read databases are able to work with databases created by any version of Geosoft since 1992, though database features and capabilities that are newer than the reading program will not be available to older programs. This cross-version stability of data has been key to the emergence of Geosoft databases as an industry standard, especially for airborne geophysical surveys.\n",
    "\n",
    "Fundamentally, Geosoft databases store located data which has either an (x, y) location for 2D data, or an (x, y, z) location for 3D data such that each location may have any number of fields of associated information.  Information fields are referred to as 'channels' in the context of a Geosoft Database, and channels may contain numeric data, strings or arrays of numeric data to store things like time-series.  For example an airborne magnetic survey may have (x, y, elevation, altimeter, mag) data, and a ground geochemical survey may contain (x, y, elevation, Cu, Au, Hg).\n",
    "\n",
    "Data in a database is grouped into the concept of 'lines' of data such that each 'line' contains the data from a single airborne survey line, a single ground survey line, a marine ship track, a set of data from a single drill hole, or from any other grouping construct that is suitable for the stored data.  Geosoft's desktop application, Oasis montaj, displays a single line of data in a spreadsheet-like form to the user, allowing a user to change lines and change which channels are displayed and the order channels are displayed. Simple databases might place all data into a single line.  All lines in a Geosoft database share the channel definitions, of course with data different for each line. \n",
    "\n",
    "As you work through the exercises in this tutorial you will be introduced to other concepts of Geosoft databases."
   ]
  },
  {
   "cell_type": "markdown",
   "metadata": {},
   "source": [
    "### Imports, GX context, and get data from GitHub"
   ]
  },
  {
   "cell_type": "code",
   "execution_count": 1,
   "metadata": {},
   "outputs": [
    {
     "data": {
      "text/plain": [
       "'mag_data.csv'"
      ]
     },
     "execution_count": 1,
     "metadata": {},
     "output_type": "execute_result"
    }
   ],
   "source": [
    "from IPython.display import Image\n",
    "import numpy as np\n",
    "import geosoft.gxapi as gxapi\n",
    "import geosoft.gxpy.gx as gx\n",
    "import geosoft.gxpy.gdb as gxdb\n",
    "import geosoft.gxpy.utility as gxu\n",
    "gxc = gx.GXpy()\n",
    "\n",
    "url = 'https://github.com/GeosoftInc/gxpy/raw/9.3.1/examples/data/'\n",
    "gxu.url_retrieve(url + 'mag_data.csv')"
   ]
  },
  {
   "cell_type": "markdown",
   "metadata": {},
   "source": [
    "## Create a new database from a CSV-format data file\n",
    "\n",
    "A very common form for exchanging located data is in a simple ASCII Comma-Separated-Values (CSV) file. In this exercise we \n",
    "will create a new Geosoft database and import an example CSV file.\n",
    "\n",
    "The CSV file mag_data.csv contains located data as follows:\n",
    "    \n",
    "```\n",
    "# (X, Y) are on NAD83, UTM Zone 15N\n",
    "X,Y,Z,mag\n",
    "330000,6629200,211.055369153511,5535\n",
    "330050,6629200,210.654999327171,5500\n",
    "330100,6629200,210.286555185181,5476\n",
    "330150,6629200,209.952679145607,5479\n",
    "330200,6629200,209.655742280775,5496\n",
    "330250,6629200,209.397817201372,5544\n",
    "etc...\n",
    "```\n",
    "\n",
    "In this example, the first line is simply a comment line that identified the spatial coordinate system for the located data.\n",
    "The second line identified the names of the data columns, and data follows starting in line 3. \n",
    "Note that columns of information after the first line are comma-delimited, and each line has 4 columns of information."
   ]
  },
  {
   "cell_type": "markdown",
   "metadata": {},
   "source": [
    "### Import CSV Script\n",
    "\n",
    "This script that will import the CSV data into a new Geosoft database.  All \n",
    "the data is imported to a single line - we wil split the line into segments later."
   ]
  },
  {
   "cell_type": "code",
   "execution_count": 2,
   "metadata": {},
   "outputs": [
    {
     "name": "stdout",
     "output_type": "stream",
     "text": [
      "['L0']\n",
      "['mag', 'X', 'Y', 'Z']\n",
      "('X', 'Y', 'Z')\n"
     ]
    },
    {
     "data": {
      "image/png": "[encoded data removed]",
      "text/plain": [
       "<IPython.core.display.Image object>"
      ]
     },
     "execution_count": 2,
     "metadata": {},
     "output_type": "execute_result"
    }
   ],
   "source": [
    "# Open csv-format data file and skip the first line, which is a comment line\n",
    "f = open('mag_data.csv', 'r')\n",
    "f.readline()\n",
    "\n",
    "# the second line contains the channel/field names, from which we create a list of channel names\n",
    "channel_names = f.readline().strip().split(',')\n",
    "\n",
    "#the rest of the file contains data, which we load into a 2D numpy float array\n",
    "data = np.loadtxt(f, delimiter=',')\n",
    "\n",
    "#create a new database from list of channels and numpy data. All data is stored in a single line.\n",
    "with gxdb.Geosoft_gdb.new('mag_data', overwrite=True) as gdb:\n",
    "    \n",
    "    # create a valid line name for line 0 type random, and write all the data to this line\n",
    "    gdb.write_line('L0', data, channel_names)\n",
    "\n",
    "    # set the coordinate system to 'NAD 83 / UTM zone 15N'\n",
    "    gdb.coordinate_system = 'NAD83 / UTM zone 15N'\n",
    "\n",
    "    # set the mag data units to 'nT'\n",
    "    gxdb.Channel(gdb, 'mag').unit_of_measure = 'nT'\n",
    "    \n",
    "    print(list(gdb.list_lines()))     # ['L0']\n",
    "    print(list(gdb.list_channels()))  # ['mag', 'X', 'Y', 'Z']\n",
    "    print(gdb.xyz_channels)           # ('X', 'Y', 'Z')\n",
    "\n",
    "Image(gxdb.Geosoft_gdb.open('mag_data').figure_map(draw=gxdb.DRAW_AS_LINES).image_file(pix_width=800))"
   ]
  },
  {
   "cell_type": "markdown",
   "metadata": {},
   "source": [
    "Opening the database from a Geosoft application will shows the 'L0' line.\n",
    "\n",
    "![](https://github.com/GeosoftInc/gxpy/raw/9.3/examples/tutorial/Geosoft%20Databases/gdb1.png)\n"
   ]
  },
  {
   "cell_type": "markdown",
   "metadata": {},
   "source": [
    "## Split the data into lines\n",
    "\n",
    "In the database line plot above we see that the data in Line 0 (L0E) would be better organized as separate survey lines rather than a single contuous lines.  In this case the lines are horizontal, 200 m apart with sampled every 50 m along each line:\n",
    "\n",
    "Lets modify the script by adding some processing that will use a Geosoft method to split a line into separate lines based on a change in line direction. To split a line into sections we will use a processing function from the GXAPI, which exposes the full Geosoft API.\n",
    "\n",
    "We will use the  [geosoft.gxapi.GXDU.split_line_xy2](https://geosoftinc.github.io/gxpy/9.3/python/GXDU.html?highlight=split_line_xy2#geosoft.gxapi.GXDU.split_line_xy2) function ([GXDU](https://geosoftinc.github.io/gxpy/9.3/python/GXDU.html) contains many Database Utility functions). This is part of the low-level [geosoft.gxapi](https://geosoftinc.github.io/gxpy/9.3/python/geosoft.gxapi.classes.html#geosoft-gxapi-classes) so a bit more care is required. Database functions often require locks on database symbols (handles to lines, channels and other database objects), which is the case for the _Line_, _x_ch_ and _y_ch_ arguments of split_line_xy2. Because Geosoft databases allow for concurrent access by multiple applications, symbols must be locked and unlocked as they are used.  The `geosoft.gxpy` pythonic api will do this for you, but the `geosoft.gxapi` requires that you directly manage locks. Terminating a script removes any locks that may have remained on any symbols."
   ]
  },
  {
   "cell_type": "code",
   "execution_count": 3,
   "metadata": {},
   "outputs": [
    {
     "name": "stdout",
     "output_type": "stream",
     "text": [
      "Lines:  ['L1', 'L2', 'L3', 'L4', 'L5', 'L6', 'L7', 'L8', 'L9', 'L10', 'L11', 'L12', 'L13', 'L14', 'L15', 'L16', 'L17', 'L18', 'L19', 'L20', 'L21', 'L22', 'L23', 'L24', 'L25', 'L26', 'L27', 'L28', 'L29', 'L30', 'L31', 'L32', 'L33', 'L34', 'L35', 'L36', 'L37', 'L38', 'L39', 'L40', 'L41', 'L42', 'L43', 'L44', 'L45', 'L46', 'L47', 'L48', 'L49', 'L50', 'L51', 'L52', 'L53', 'L54', 'L55', 'L56', 'L57', 'L58', 'L59', 'L60', 'L61', 'L62', 'L63', 'L64', 'L65', 'L66', 'L67', 'L68', 'L69', 'L70']\n"
     ]
    },
    {
     "data": {
      "image/png": "[encoded data removed]",
      "text/plain": [
       "<IPython.core.display.Image object>"
      ]
     },
     "execution_count": 3,
     "metadata": {},
     "output_type": "execute_result"
    }
   ],
   "source": [
    "# split the line into sections knowing lines are E-W, and separated by 200 m.\n",
    "\n",
    "# the GXDU class requires a desktop license\n",
    "if gxc.entitled:\n",
    "\n",
    "    # we need an int_ref() to hold values that are passed by reference, in this case for the first_line argument\n",
    "    split_line_number_start = gxapi.int_ref()\n",
    "    split_line_number_start.value = 1\n",
    "\n",
    "    # open the database, best practice is to use a 'with ...' construct\n",
    "    with gxdb.Geosoft_gdb.open('mag_data') as gdb:\n",
    "\n",
    "        # create instances to the lines and channels needed by the split_line_xy2 function\n",
    "        line = gxdb.Line(gdb, 'L0')\n",
    "        x_channel = gxdb.Channel(gdb, 'X')\n",
    "        y_channel = gxdb.Channel(gdb, 'Y')\n",
    "\n",
    "        # lock items as required\n",
    "        line.lock = gxdb.SYMBOL_LOCK_READ\n",
    "        x_channel.lock = gxdb.SYMBOL_LOCK_WRITE\n",
    "        y_channel.lock = gxdb.SYMBOL_LOCK_WRITE\n",
    "\n",
    "        # split the original line into segments, based on a lateral distance tolerance of 100 m.\n",
    "        gxapi.GXDU.split_line_xy2(\n",
    "            gdb.gxdb,                     # the gxdb property holds the gxapi.GXDB instance\n",
    "            line.symbol,\n",
    "            gxdb.Channel(gdb, 'X').symbol,\n",
    "            gxdb.Channel(gdb, 'Y').symbol,\n",
    "            1,\n",
    "            100.0,\n",
    "            gxapi.rDUMMY,\n",
    "            gxapi.DU_SPLITLINE_SEQUENTIAL,\n",
    "            split_line_number_start,\n",
    "            1,\n",
    "            1)\n",
    "\n",
    "        #delete the original line as it is no longer needed\n",
    "        gdb.delete_line('L0')\n",
    "\n",
    "        # print a list of the new lines\n",
    "        print('Lines: ', list(gdb.list_lines()))   # ['L1', 'L2', 'L3', 'L4', 'L5', 'L6', ...\n",
    "    \n",
    "# show the lines\n",
    "Image(gxdb.Geosoft_gdb.open('mag_data').figure_map(draw=gxdb.DRAW_AS_LINES).image_file(pix_width=800))"
   ]
  },
  {
   "cell_type": "markdown",
   "metadata": {},
   "source": [
    "## Read, modify and save data using numpy\n",
    "\n",
    "Geosoft databases and data models are designed around the concept of data vector arrays, which support high performance data processing. Each channel in a line holds a single 1-dimensional or 2-dimentional array of data. Python's standard library for working with data arrays is numpy, and this is a standard part of any scientifically-oriented Python environment. The `Geosoft_gdb` class provides for reading and writing data directly to/from numpy arrays as well as Geosoft `VV` vector arrays.\n",
    "\n",
    "This example shows a simple use of numpy and the next section shows the same exercise using a Geosoft `VV`. In the open database above we see that the mag data has values around 5000 nT, which we will subtract from the data."
   ]
  },
  {
   "cell_type": "code",
   "execution_count": 4,
   "metadata": {},
   "outputs": [],
   "source": [
    "with gxdb.Geosoft_gdb.open('mag_data') as gdb:\n",
    " \n",
    "    # make a new channel for the output, duplicate properties of 'mag' channel\n",
    "    new_mag_channel = gxdb.Channel.new(gdb, 'mag_base', dup='mag', replace=True)\n",
    " \n",
    "    # work through each line\n",
    "    for line in gdb.list_lines():\n",
    " \n",
    "        # read data from the line.\n",
    "        # The read_channel method returns the data as a numpy array, and the fiducial\n",
    "        mag_data, fid = gdb.read_channel(line, 'mag')\n",
    " \n",
    "        # use simple numpy math to subtract 5000, then save to the new_mag_channel\n",
    "        mag_data = mag_data - 5000\n",
    "        gdb.write_channel(line, new_mag_channel, mag_data, fid)"
   ]
  },
  {
   "cell_type": "markdown",
   "metadata": {},
   "source": [
    "![](https://github.com/GeosoftInc/gxpy/raw/9.3/examples/tutorial/Geosoft%20Databases/gdb5.png)"
   ]
  },
  {
   "cell_type": "markdown",
   "metadata": {},
   "source": [
    "## Read, modify and save data using a VV\n",
    "\n",
    "This example does the same thing as the previous example, but uses the Geosoft vector processing functions from the Geosoft VV library. Geosoft VV functions will deliver even higher performance than numpy, and while you may be limited by the capabilities of the Geosoft API, there are many functions that perform geoscience-specific operations on data (see [gxapi.GXVVU](https://geosoftinc.github.io/gxpy/9.3/python/GXVVU.html)). Note that data in a Geosoft VV can also be exposed as a numpy array to provide numpy access when needed."
   ]
  },
  {
   "cell_type": "code",
   "execution_count": 5,
   "metadata": {},
   "outputs": [],
   "source": [
    "with gxdb.Geosoft_gdb.open('mag_data') as gdb:\n",
    " \n",
    "    # make a new channel for the output, duplicate properties of 'mag' channel\n",
    "    new_mag_channel = gxdb.Channel.new(gdb, 'mag_base', dup='mag', replace=True)\n",
    " \n",
    "    # work through each line\n",
    "    for line in gdb.list_lines():\n",
    " \n",
    "        # read data from the line.\n",
    "        # The read_channel method returns the data in a geosoft VV\n",
    "        mag_data = gdb.read_channel_vv(line, 'mag')\n",
    " \n",
    "        # use Geosoft GXVVU.translate function to subtract 5000.\n",
    "        gxapi.GXVVU.translate(mag_data.gxvv, -5000, 1)\n",
    "        gdb.write_channel_vv(line, new_mag_channel, mag_data)"
   ]
  },
  {
   "cell_type": "markdown",
   "metadata": {},
   "source": [
    "## Apply an expression to a database\n",
    "\n",
    "In this exercise we calculate the distance along each line from the starting point of each line. The Pythagorean expression is simple and can be implemented in a single line of numpy code. This example reads multiple channels from the database and uses numpy slicing to work with individual channel columns from a 2D numpy array."
   ]
  },
  {
   "cell_type": "code",
   "execution_count": 6,
   "metadata": {},
   "outputs": [],
   "source": [
    "with gxdb.Geosoft_gdb.open('mag_data') as gdb:\n",
    " \n",
    "    # make a distance channel\n",
    "    dist_channel = gxdb.Channel.new(gdb, 'distance', dup='x', replace=True)\n",
    " \n",
    "    # work through each line\n",
    "    for line in gdb.list_lines():\n",
    " \n",
    "        # Here we are reading multiple channels from a single line. \n",
    "        # If we were to omit the list of channels ('x', 'y'), \n",
    "        # all channels in the line would be returned in a 2D numpy array. \n",
    "        # The returned channels_read is a list of the channels that were read.\n",
    "        xy_data, channels_read, fid = gdb.read_line(line, ('x', 'y'))\n",
    " \n",
    "        # get the first point (x0, y0)       \n",
    "        x0 = xy_data[0, 0]\n",
    "        y0 = xy_data[0, 1]\n",
    "         \n",
    "        # use numpy array math to calculate distance in a 1D array dist_array\n",
    "        dist_array = np.sqrt((xy_data[:, 0] - x0)**2 + (xy_data[:, 1] - y0)**2)\n",
    "         \n",
    "        # save the distance to the distance channel\n",
    "        gdb.write_channel(line, dist_channel, dist_array, fid)"
   ]
  },
  {
   "cell_type": "markdown",
   "metadata": {},
   "source": [
    "Above we use numpy vector operations which are very fast. You could also iterate through the array, but this is much slower:"
   ]
  },
  {
   "cell_type": "code",
   "execution_count": 7,
   "metadata": {},
   "outputs": [],
   "source": [
    "import math\n",
    "\n",
    "with gxdb.Geosoft_gdb.open('mag_data') as gdb:\n",
    " \n",
    "    # make a distance channel\n",
    "    dist_channel = gxdb.Channel.new(gdb, 'distance', dup='x', replace=True)\n",
    " \n",
    "    # work through each line\n",
    "    for line in gdb.list_lines():\n",
    " \n",
    "        # Here we are reading multiple channels from a single line. \n",
    "        # If we were to omit the list of channels ('x', 'y'), \n",
    "        # all channels in the line would be returned in a 2D numpy array. \n",
    "        # The returned channels_read is a list of the channels that were read.\n",
    "        xy_data, channels_read, fid = gdb.read_line(line, ('x', 'y'))\n",
    " \n",
    "        # get the first point (x0, y0)       \n",
    "        x0 = xy_data[0, 0]\n",
    "        y0 = xy_data[0, 1]\n",
    "        \n",
    "        # iterate elements in the data (slow)\n",
    "        dist_array = np.zeros(len(xy_data))\n",
    "        for i in range(len(dist_array)):\n",
    "            dx = xy_data[i, 0] - x0\n",
    "            dy = xy_data[i, 1] - y0\n",
    "            dist_array[i] = math.sqrt(dx **2 + dy **2)\n",
    "         \n",
    "        # save the distance to the distance channel\n",
    "        gdb.write_channel(line, dist_channel, dist_array, fid)"
   ]
  }
 ],
 "metadata": {
  "anaconda-cloud": {},
  "kernelspec": {
   "display_name": "Python 3",
   "language": "python",
   "name": "python3"
  },
  "language_info": {
   "codemirror_mode": {
    "name": "ipython",
    "version": 3
   },
   "file_extension": ".py",
   "mimetype": "text/x-python",
   "name": "python",
   "nbconvert_exporter": "python",
   "pygments_lexer": "ipython3",
   "version": "3.7.3"
  }
 },
 "nbformat": 4,
 "nbformat_minor": 2
}
